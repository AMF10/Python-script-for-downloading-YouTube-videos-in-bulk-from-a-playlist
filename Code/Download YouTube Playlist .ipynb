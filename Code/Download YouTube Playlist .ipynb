{
 "cells": [
  {
   "cell_type": "code",
   "execution_count": 1,
   "id": "a1450678",
   "metadata": {},
   "outputs": [
    {
     "name": "stdout",
     "output_type": "stream",
     "text": [
      "Requirement already satisfied: pytube in c:\\programdata\\anaconda3\\lib\\site-packages (12.1.2)\n",
      "Note: you may need to restart the kernel to use updated packages.\n"
     ]
    }
   ],
   "source": [
    "pip install pytube"
   ]
  },
  {
   "cell_type": "code",
   "execution_count": null,
   "id": "5811b94f",
   "metadata": {},
   "outputs": [],
   "source": [
    "import os\n",
    "from pytube import Playlist, YouTube\n",
    "\n",
    "# Set the URL of the YouTube playlist\n",
    "playlist_url = \"URL\"\n",
    "\n",
    "# Set the path to the directory where you want to save the downloaded videos\n",
    "download_path = \"Distination Path \"\n",
    "\n",
    "# Set the desired video resolution (720p in this case)\n",
    "resolution = \"720p\"\n",
    "\n",
    "# Set the list of video numbers to download (empty list means download all videos)\n",
    "video_numbers_to_download = [1, 3, 5]\n",
    "\n",
    "try:\n",
    "    # Create a Pytube Playlist object from the playlist URL\n",
    "    playlist = Playlist(playlist_url)\n",
    "\n",
    "    # Filter videos based on video numbers to download (if specified)\n",
    "    if video_numbers_to_download:\n",
    "        filtered_videos = [video for i, video in enumerate(playlist.videos) if i+1 in video_numbers_to_download]\n",
    "    else:\n",
    "        filtered_videos = playlist.videos\n",
    "\n",
    "    # Loop through each filtered video in the playlist\n",
    "    for video in filtered_videos:\n",
    "        # Set the resolution of the video\n",
    "        video = YouTube(video.watch_url).streams.filter(res=resolution).first()\n",
    "\n",
    "        # Set the path to save the video to\n",
    "        video_path = os.path.join(download_path, video.title + \".mp4\")\n",
    "\n",
    "        # Download the video to the specified path\n",
    "        video.download(output_path=download_path)\n",
    "\n",
    "        print(f\"Downloaded {video.title} to {video_path}\")\n",
    "\n",
    "except Exception as e:\n",
    "    print(\"An error occurred during the download process:\", e)\n",
    "\n"
   ]
  },
  {
   "cell_type": "code",
   "execution_count": null,
   "id": "48744d4f",
   "metadata": {},
   "outputs": [],
   "source": []
  }
 ],
 "metadata": {
  "kernelspec": {
   "display_name": "Python 3 (ipykernel)",
   "language": "python",
   "name": "python3"
  },
  "language_info": {
   "codemirror_mode": {
    "name": "ipython",
    "version": 3
   },
   "file_extension": ".py",
   "mimetype": "text/x-python",
   "name": "python",
   "nbconvert_exporter": "python",
   "pygments_lexer": "ipython3",
   "version": "3.9.7"
  }
 },
 "nbformat": 4,
 "nbformat_minor": 5
}
